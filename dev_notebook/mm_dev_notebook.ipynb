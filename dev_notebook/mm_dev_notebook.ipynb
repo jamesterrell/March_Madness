{
 "cells": [
  {
   "cell_type": "code",
   "execution_count": 3,
   "metadata": {},
   "outputs": [],
   "source": [
    "import numpy as np\n",
    "import pandas as pd\n",
    "import random\n",
    "import rounds as rd\n",
    "import first_four as ff "
   ]
  },
  {
   "cell_type": "code",
   "execution_count": 4,
   "metadata": {},
   "outputs": [],
   "source": [
    "bracket_df = pd.read_csv('bracket.csv', index_col=False)"
   ]
  },
  {
   "cell_type": "code",
   "execution_count": 5,
   "metadata": {},
   "outputs": [],
   "source": [
    "first_four = {'Teams': ['Grambling State', 'Montana State', 'Virginia',\n",
    "                         'Colorado State', 'Boise State', 'Colorado', 'Howard', 'Wagner'], \n",
    "            'Elo': [1353.96, 1341.79, 1582.20, 1554.52, 1594.00, 1629.95, 1306.70, 1212.28]}"
   ]
  },
  {
   "cell_type": "code",
   "execution_count": 6,
   "metadata": {},
   "outputs": [],
   "source": [
    "first_four_df = pd.DataFrame(first_four)"
   ]
  },
  {
   "cell_type": "code",
   "execution_count": 7,
   "metadata": {},
   "outputs": [],
   "source": [
    "r64 =  ff.first_four_games(first_four_df, bracket_df, 46.5, 57.5, 43.5, 16.5)"
   ]
  },
  {
   "cell_type": "code",
   "execution_count": 8,
   "metadata": {},
   "outputs": [],
   "source": [
    "for i in range(10):\n",
    "    res_store = pd.DataFrame()\n",
    "    r32 = rd.tourney_round(df=r64)\n",
    "    res_store['r32'] = r32['Teams']\n",
    "    r16 = rd.tourney_round(r32)\n",
    "    res_store['sweet16'] = r16['Teams']\n",
    "    r8 = rd.tourney_round(r16)\n",
    "    res_store['elite8'] = r8['Teams']\n",
    "    r4 = rd.tourney_round(r8)\n",
    "    res_store['final4'] = r4['Teams']\n",
    "    r2 = rd.tourney_round(r4)\n",
    "    res_store['championship'] = r2['Teams']\n",
    "    champ = rd.tourney_round(r2)\n",
    "    res_store['national champion'] = champ['Teams']\n",
    "    res_store.to_csv(f'bracket_{i}.csv')"
   ]
  }
 ],
 "metadata": {
  "kernelspec": {
   "display_name": "work",
   "language": "python",
   "name": "python3"
  },
  "language_info": {
   "codemirror_mode": {
    "name": "ipython",
    "version": 3
   },
   "file_extension": ".py",
   "mimetype": "text/x-python",
   "name": "python",
   "nbconvert_exporter": "python",
   "pygments_lexer": "ipython3",
   "version": "3.10.13"
  }
 },
 "nbformat": 4,
 "nbformat_minor": 2
}
