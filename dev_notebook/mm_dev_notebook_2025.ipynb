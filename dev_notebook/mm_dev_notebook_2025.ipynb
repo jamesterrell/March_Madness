{
 "cells": [
  {
   "cell_type": "code",
   "execution_count": 1,
   "metadata": {},
   "outputs": [
    {
     "data": {
      "text/plain": [
       "<polars.config.Config at 0x1c2fe956a50>"
      ]
     },
     "execution_count": 1,
     "metadata": {},
     "output_type": "execute_result"
    }
   ],
   "source": [
    "import numpy as np\n",
    "import polars as pl\n",
    "from tourney_round import play_round\n",
    "pl.Config(tbl_rows=30)"
   ]
  },
  {
   "cell_type": "code",
   "execution_count": 2,
   "metadata": {},
   "outputs": [],
   "source": [
    "df = pl.read_csv('bracket.csv')"
   ]
  },
  {
   "cell_type": "code",
   "execution_count": 3,
   "metadata": {},
   "outputs": [
    {
     "data": {
      "text/html": [
       "<div><style>\n",
       ".dataframe > thead > tr,\n",
       ".dataframe > tbody > tr {\n",
       "  text-align: right;\n",
       "  white-space: pre-wrap;\n",
       "}\n",
       "</style>\n",
       "<small>shape: (64, 2)</small><table border=\"1\" class=\"dataframe\"><thead><tr><th>Teams</th><th>Elo</th></tr><tr><td>str</td><td>f64</td></tr></thead><tbody><tr><td>&quot;Auburn&quot;</td><td>1815.51</td></tr><tr><td>&quot;Alabama State&quot;</td><td>1318.45</td></tr><tr><td>&quot;Louisville&quot;</td><td>1747.08</td></tr><tr><td>&quot;Creighton&quot;</td><td>1677.51</td></tr><tr><td>&quot;Michigan&quot;</td><td>1744.64</td></tr><tr><td>&quot;UC San Diego&quot;</td><td>1647.62</td></tr><tr><td>&quot;Texas A&amp;M&quot;</td><td>1671.08</td></tr><tr><td>&quot;Yale&quot;</td><td>1576.63</td></tr><tr><td>&quot;Ole Miss&quot;</td><td>1665.69</td></tr><tr><td>&quot;North Carolina&quot;</td><td>1659.73</td></tr><tr><td>&quot;Iowa State&quot;</td><td>1674.6</td></tr><tr><td>&quot;Lipscomb&quot;</td><td>1461.59</td></tr><tr><td>&quot;Marquette&quot;</td><td>1610.43</td></tr><tr><td>&quot;New Mexico State&quot;</td><td>1339.94</td></tr><tr><td>&quot;Michigan State&quot;</td><td>1793.8</td></tr><tr><td>&hellip;</td><td>&hellip;</td></tr><tr><td>&quot;SIUE&quot;</td><td>1321.46</td></tr><tr><td>&quot;Gonzaga&quot;</td><td>1712.57</td></tr><tr><td>&quot;Georgia&quot;</td><td>1593.8</td></tr><tr><td>&quot;Clemson&quot;</td><td>1724.27</td></tr><tr><td>&quot;McNeese&quot;</td><td>1582.18</td></tr><tr><td>&quot;Purdue&quot;</td><td>1642.04</td></tr><tr><td>&quot;High Point&quot;</td><td>1593.12</td></tr><tr><td>&quot;Illinois&quot;</td><td>1657.45</td></tr><tr><td>&quot;Xavier&quot;</td><td>1633.08</td></tr><tr><td>&quot;Kentucky&quot;</td><td>1680.15</td></tr><tr><td>&quot;Troy&quot;</td><td>1471.3</td></tr><tr><td>&quot;UCLA&quot;</td><td>1644.8</td></tr><tr><td>&quot;Utah State&quot;</td><td>1601.22</td></tr><tr><td>&quot;Tennessee&quot;</td><td>1794.54</td></tr><tr><td>&quot;Wofford&quot;</td><td>1384.8</td></tr></tbody></table></div>"
      ],
      "text/plain": [
       "shape: (64, 2)\n",
       "┌──────────────────┬─────────┐\n",
       "│ Teams            ┆ Elo     │\n",
       "│ ---              ┆ ---     │\n",
       "│ str              ┆ f64     │\n",
       "╞══════════════════╪═════════╡\n",
       "│ Auburn           ┆ 1815.51 │\n",
       "│ Alabama State    ┆ 1318.45 │\n",
       "│ Louisville       ┆ 1747.08 │\n",
       "│ Creighton        ┆ 1677.51 │\n",
       "│ Michigan         ┆ 1744.64 │\n",
       "│ UC San Diego     ┆ 1647.62 │\n",
       "│ Texas A&M        ┆ 1671.08 │\n",
       "│ Yale             ┆ 1576.63 │\n",
       "│ Ole Miss         ┆ 1665.69 │\n",
       "│ North Carolina   ┆ 1659.73 │\n",
       "│ Iowa State       ┆ 1674.6  │\n",
       "│ Lipscomb         ┆ 1461.59 │\n",
       "│ Marquette        ┆ 1610.43 │\n",
       "│ New Mexico State ┆ 1339.94 │\n",
       "│ Michigan State   ┆ 1793.8  │\n",
       "│ …                ┆ …       │\n",
       "│ SIUE             ┆ 1321.46 │\n",
       "│ Gonzaga          ┆ 1712.57 │\n",
       "│ Georgia          ┆ 1593.8  │\n",
       "│ Clemson          ┆ 1724.27 │\n",
       "│ McNeese          ┆ 1582.18 │\n",
       "│ Purdue           ┆ 1642.04 │\n",
       "│ High Point       ┆ 1593.12 │\n",
       "│ Illinois         ┆ 1657.45 │\n",
       "│ Xavier           ┆ 1633.08 │\n",
       "│ Kentucky         ┆ 1680.15 │\n",
       "│ Troy             ┆ 1471.3  │\n",
       "│ UCLA             ┆ 1644.8  │\n",
       "│ Utah State       ┆ 1601.22 │\n",
       "│ Tennessee        ┆ 1794.54 │\n",
       "│ Wofford          ┆ 1384.8  │\n",
       "└──────────────────┴─────────┘"
      ]
     },
     "execution_count": 3,
     "metadata": {},
     "output_type": "execute_result"
    }
   ],
   "source": [
    "df"
   ]
  },
  {
   "cell_type": "code",
   "execution_count": 7,
   "metadata": {},
   "outputs": [
    {
     "data": {
      "text/html": [
       "<div><style>\n",
       ".dataframe > thead > tr,\n",
       ".dataframe > tbody > tr {\n",
       "  text-align: right;\n",
       "  white-space: pre-wrap;\n",
       "}\n",
       "</style>\n",
       "<small>shape: (1, 2)</small><table border=\"1\" class=\"dataframe\"><thead><tr><th>Teams</th><th>Elo</th></tr><tr><td>str</td><td>f64</td></tr></thead><tbody><tr><td>&quot;Connecticut&quot;</td><td>1868.77</td></tr></tbody></table></div>"
      ],
      "text/plain": [
       "shape: (1, 2)\n",
       "┌─────────────┬─────────┐\n",
       "│ Teams       ┆ Elo     │\n",
       "│ ---         ┆ ---     │\n",
       "│ str         ┆ f64     │\n",
       "╞═════════════╪═════════╡\n",
       "│ Connecticut ┆ 1868.77 │\n",
       "└─────────────┴─────────┘"
      ]
     },
     "execution_count": 7,
     "metadata": {},
     "output_type": "execute_result"
    }
   ],
   "source": [
    "r32 = play_round(df)\n",
    "r16 = play_round(r32)\n",
    "r8 = play_round(r16)\n",
    "r4 = play_round(r8)\n",
    "r2 = play_round(r4)\n",
    "# the champ\n",
    "play_round(r2)"
   ]
  }
 ],
 "metadata": {
  "kernelspec": {
   "display_name": "march_madness",
   "language": "python",
   "name": "python3"
  },
  "language_info": {
   "codemirror_mode": {
    "name": "ipython",
    "version": 3
   },
   "file_extension": ".py",
   "mimetype": "text/x-python",
   "name": "python",
   "nbconvert_exporter": "python",
   "pygments_lexer": "ipython3",
   "version": "3.13.2"
  }
 },
 "nbformat": 4,
 "nbformat_minor": 2
}
